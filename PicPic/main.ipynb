{
 "cells": [
  {
   "cell_type": "code",
   "execution_count": 1,
   "metadata": {},
   "outputs": [],
   "source": [
    "import wx\n",
    "from PicPic.HelloFrame import HelloFrame\n",
    "from PicPic.Pic_main import MyDialog"
   ]
  },
  {
   "cell_type": "code",
   "execution_count": 2,
   "metadata": {},
   "outputs": [],
   "source": [
    "app = wx.App()"
   ]
  },
  {
   "cell_type": "code",
   "execution_count": null,
   "metadata": {},
   "outputs": [
    {
     "name": "stdout",
     "output_type": "stream",
     "text": [
      "G:/课件/PicPic/img/兔子.png\n",
      "G:/课件/PicPic/img/兔子.png\n",
      "Draw Null Rectangle\n",
      "G:/课件/PicPic/img/兔子.png\n",
      "Draw Null Rectangle\n",
      "G:/课件/PicPic/img/兔子.png\n",
      "Draw Null Rectangle\n",
      "G:/课件/PicPic/img/兔子.png\n"
     ]
    }
   ],
   "source": [
    "frm = HelloFrame(None, -1,\"Show\",size=(1280,960))\n",
    "frm.Show()\n",
    "app.MainLoop()\n",
    "app.ExitMainLoop()"
   ]
  },
  {
   "cell_type": "code",
   "execution_count": null,
   "metadata": {},
   "outputs": [],
   "source": []
  },
  {
   "cell_type": "code",
   "execution_count": null,
   "metadata": {},
   "outputs": [],
   "source": []
  },
  {
   "cell_type": "code",
   "execution_count": null,
   "metadata": {},
   "outputs": [],
   "source": []
  }
 ],
 "metadata": {
  "kernelspec": {
   "display_name": "Python 3",
   "language": "python",
   "name": "python3"
  },
  "language_info": {
   "codemirror_mode": {
    "name": "ipython",
    "version": 3
   },
   "file_extension": ".py",
   "mimetype": "text/x-python",
   "name": "python",
   "nbconvert_exporter": "python",
   "pygments_lexer": "ipython3",
   "version": "3.6.8"
  }
 },
 "nbformat": 4,
 "nbformat_minor": 2
}
